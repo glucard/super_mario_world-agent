{
 "cells": [
  {
   "cell_type": "code",
   "execution_count": 1,
   "id": "8cf2f675-2c27-42a8-b05b-c7b50840ee0e",
   "metadata": {},
   "outputs": [
    {
     "data": {
      "text/plain": [
       "'\\n!pip install mss\\n!pip install matplotlib\\n!pip install tensorboardX python-dotenv\\n'"
      ]
     },
     "execution_count": 1,
     "metadata": {},
     "output_type": "execute_result"
    }
   ],
   "source": [
    "\"\"\"\n",
    "!pip install mss\n",
    "!pip install matplotlib\n",
    "!pip install tensorboardX python-dotenv\n",
    "\"\"\""
   ]
  },
  {
   "cell_type": "markdown",
   "id": "d03d28b0",
   "metadata": {},
   "source": [
    "## preparations"
   ]
  },
  {
   "cell_type": "code",
   "execution_count": 2,
   "id": "b6abbb04-bd69-4f55-bb60-83ed10164b12",
   "metadata": {},
   "outputs": [],
   "source": [
    "# debug\n",
    "import time\n",
    "import random\n",
    "from IPython.display import clear_output\n",
    "from matplotlib import pyplot as plt"
   ]
  },
  {
   "cell_type": "code",
   "execution_count": 3,
   "id": "93856579",
   "metadata": {},
   "outputs": [],
   "source": [
    "import os\n",
    "from dotenv import load_dotenv\n",
    "\n",
    "EXECUTABLE_NAME = os.getenv('EXECUTABLE_NAME')\n",
    "GAME_WINDOW_NAME = os.getenv('GAME_WINDOW_NAME')"
   ]
  },
  {
   "cell_type": "markdown",
   "id": "11af99ca-18a5-405f-8a6e-dfe1d0a674fc",
   "metadata": {},
   "source": [
    "### camera"
   ]
  },
  {
   "cell_type": "code",
   "execution_count": 4,
   "id": "f99a2bed-5bca-4d68-9fef-414956377d7e",
   "metadata": {},
   "outputs": [],
   "source": [
    "from src.gamenv import GameEnv\n",
    "\n",
    "game_env = GameEnv(\"snes9x.exe\", \"mario - Snes9x 1.62.3\", (20, 120, -10, -50))\n",
    "camera = game_env.camera"
   ]
  },
  {
   "cell_type": "code",
   "execution_count": 5,
   "id": "ede79e37",
   "metadata": {},
   "outputs": [
    {
     "data": {
      "text/plain": [
       "(80, 80, 3)"
      ]
     },
     "execution_count": 5,
     "metadata": {},
     "output_type": "execute_result"
    },
    {
     "data": {
      "image/png": "[encoded data removed]",
      "text/plain": [
       "<Figure size 640x480 with 1 Axes>"
      ]
     },
     "metadata": {},
     "output_type": "display_data"
    }
   ],
   "source": [
    "camera.set_foreground_game()\n",
    "frame = camera.get_frame()\n",
    "plt.imshow(frame)\n",
    "frame.shape"
   ]
  },
  {
   "cell_type": "markdown",
   "metadata": {},
   "source": [
    "### Agent"
   ]
  },
  {
   "cell_type": "code",
   "execution_count": 6,
   "metadata": {},
   "outputs": [
    {
     "name": "stdout",
     "output_type": "stream",
     "text": [
      "cuda\n"
     ]
    }
   ],
   "source": [
    "import torch\n",
    "\n",
    "device = 'cuda' if torch.cuda.is_available() else 'cpu'\n",
    "print(device)"
   ]
  },
  {
   "cell_type": "code",
   "execution_count": 8,
   "id": "8a1c03cd",
   "metadata": {},
   "outputs": [
    {
     "name": "stderr",
     "output_type": "stream",
     "text": [
      "c:\\my tools\\environments\\pytorch_2_1_0_cuda_11_8\\Lib\\site-packages\\gym\\envs\\registration.py:498: UserWarning: \u001b[33mWARN: Overriding environment CustomGameEnv-v0 already in registry.\u001b[0m\n",
      "  logger.warn(f\"Overriding environment {new_spec.id} already in registry.\")\n",
      "c:\\my tools\\environments\\pytorch_2_1_0_cuda_11_8\\Lib\\site-packages\\gym\\utils\\passive_env_checker.py:174: UserWarning: \u001b[33mWARN: Future gym versions will require that `Env.reset` can be passed a `seed` instead of using `Env.seed` for resetting the environment random number generator.\u001b[0m\n",
      "  logger.warn(\n",
      "c:\\my tools\\environments\\pytorch_2_1_0_cuda_11_8\\Lib\\site-packages\\gym\\utils\\passive_env_checker.py:187: UserWarning: \u001b[33mWARN: Future gym versions will require that `Env.reset` can be passed `options` to allow the environment initialisation to be passed additional information.\u001b[0m\n",
      "  logger.warn(\n",
      "c:\\my tools\\environments\\pytorch_2_1_0_cuda_11_8\\Lib\\site-packages\\gym\\utils\\passive_env_checker.py:233: DeprecationWarning: `np.bool8` is a deprecated alias for `np.bool_`.  (Deprecated NumPy 1.24)\n",
      "  if not isinstance(terminated, (bool, np.bool8)):\n",
      "c:\\my tools\\environments\\pytorch_2_1_0_cuda_11_8\\Lib\\site-packages\\gym\\utils\\passive_env_checker.py:272: UserWarning: \u001b[33mWARN: No render modes was declared in the environment (env.metadata['render_modes'] is None or not defined), you may have trouble when calling `.render()`.\u001b[0m\n",
      "  logger.warn(\n"
     ]
    },
    {
     "ename": "Exception",
     "evalue": "mario - Snes9x 1.62.3 cannot be minimized.",
     "output_type": "error",
     "traceback": [
      "\u001b[1;31m---------------------------------------------------------------------------\u001b[0m",
      "\u001b[1;31mException\u001b[0m                                 Traceback (most recent call last)",
      "Cell \u001b[1;32mIn[8], line 18\u001b[0m\n\u001b[0;32m     16\u001b[0m \u001b[38;5;28;01mfor\u001b[39;00m _ \u001b[38;5;129;01min\u001b[39;00m \u001b[38;5;28mrange\u001b[39m(\u001b[38;5;241m1000\u001b[39m):  \u001b[38;5;66;03m# Adjust as needed\u001b[39;00m\n\u001b[0;32m     17\u001b[0m     action \u001b[38;5;241m=\u001b[39m env\u001b[38;5;241m.\u001b[39maction_space\u001b[38;5;241m.\u001b[39msample()  \u001b[38;5;66;03m# Replace with your RL agent's action\u001b[39;00m\n\u001b[1;32m---> 18\u001b[0m     obs, reward, done, truncated, info \u001b[38;5;241m=\u001b[39m \u001b[43menv\u001b[49m\u001b[38;5;241;43m.\u001b[39;49m\u001b[43mstep\u001b[49m\u001b[43m(\u001b[49m\u001b[43maction\u001b[49m\u001b[43m)\u001b[49m\n\u001b[0;32m     19\u001b[0m     env\u001b[38;5;241m.\u001b[39mrender()\n\u001b[0;32m     20\u001b[0m     \u001b[38;5;28;01mif\u001b[39;00m done \u001b[38;5;129;01mor\u001b[39;00m truncated:\n",
      "File \u001b[1;32mc:\\my tools\\environments\\pytorch_2_1_0_cuda_11_8\\Lib\\site-packages\\gym\\wrappers\\time_limit.py:50\u001b[0m, in \u001b[0;36mTimeLimit.step\u001b[1;34m(self, action)\u001b[0m\n\u001b[0;32m     39\u001b[0m \u001b[38;5;28;01mdef\u001b[39;00m \u001b[38;5;21mstep\u001b[39m(\u001b[38;5;28mself\u001b[39m, action):\n\u001b[0;32m     40\u001b[0m \u001b[38;5;250m    \u001b[39m\u001b[38;5;124;03m\"\"\"Steps through the environment and if the number of steps elapsed exceeds ``max_episode_steps`` then truncate.\u001b[39;00m\n\u001b[0;32m     41\u001b[0m \n\u001b[0;32m     42\u001b[0m \u001b[38;5;124;03m    Args:\u001b[39;00m\n\u001b[1;32m   (...)\u001b[0m\n\u001b[0;32m     48\u001b[0m \n\u001b[0;32m     49\u001b[0m \u001b[38;5;124;03m    \"\"\"\u001b[39;00m\n\u001b[1;32m---> 50\u001b[0m     observation, reward, terminated, truncated, info \u001b[38;5;241m=\u001b[39m \u001b[38;5;28;43mself\u001b[39;49m\u001b[38;5;241;43m.\u001b[39;49m\u001b[43menv\u001b[49m\u001b[38;5;241;43m.\u001b[39;49m\u001b[43mstep\u001b[49m\u001b[43m(\u001b[49m\u001b[43maction\u001b[49m\u001b[43m)\u001b[49m\n\u001b[0;32m     51\u001b[0m     \u001b[38;5;28mself\u001b[39m\u001b[38;5;241m.\u001b[39m_elapsed_steps \u001b[38;5;241m+\u001b[39m\u001b[38;5;241m=\u001b[39m \u001b[38;5;241m1\u001b[39m\n\u001b[0;32m     53\u001b[0m     \u001b[38;5;28;01mif\u001b[39;00m \u001b[38;5;28mself\u001b[39m\u001b[38;5;241m.\u001b[39m_elapsed_steps \u001b[38;5;241m>\u001b[39m\u001b[38;5;241m=\u001b[39m \u001b[38;5;28mself\u001b[39m\u001b[38;5;241m.\u001b[39m_max_episode_steps:\n",
      "File \u001b[1;32mc:\\my tools\\environments\\pytorch_2_1_0_cuda_11_8\\Lib\\site-packages\\gym\\wrappers\\order_enforcing.py:37\u001b[0m, in \u001b[0;36mOrderEnforcing.step\u001b[1;34m(self, action)\u001b[0m\n\u001b[0;32m     35\u001b[0m \u001b[38;5;28;01mif\u001b[39;00m \u001b[38;5;129;01mnot\u001b[39;00m \u001b[38;5;28mself\u001b[39m\u001b[38;5;241m.\u001b[39m_has_reset:\n\u001b[0;32m     36\u001b[0m     \u001b[38;5;28;01mraise\u001b[39;00m ResetNeeded(\u001b[38;5;124m\"\u001b[39m\u001b[38;5;124mCannot call env.step() before calling env.reset()\u001b[39m\u001b[38;5;124m\"\u001b[39m)\n\u001b[1;32m---> 37\u001b[0m \u001b[38;5;28;01mreturn\u001b[39;00m \u001b[38;5;28;43mself\u001b[39;49m\u001b[38;5;241;43m.\u001b[39;49m\u001b[43menv\u001b[49m\u001b[38;5;241;43m.\u001b[39;49m\u001b[43mstep\u001b[49m\u001b[43m(\u001b[49m\u001b[43maction\u001b[49m\u001b[43m)\u001b[49m\n",
      "File \u001b[1;32mc:\\my tools\\environments\\pytorch_2_1_0_cuda_11_8\\Lib\\site-packages\\gym\\wrappers\\env_checker.py:39\u001b[0m, in \u001b[0;36mPassiveEnvChecker.step\u001b[1;34m(self, action)\u001b[0m\n\u001b[0;32m     37\u001b[0m     \u001b[38;5;28;01mreturn\u001b[39;00m env_step_passive_checker(\u001b[38;5;28mself\u001b[39m\u001b[38;5;241m.\u001b[39menv, action)\n\u001b[0;32m     38\u001b[0m \u001b[38;5;28;01melse\u001b[39;00m:\n\u001b[1;32m---> 39\u001b[0m     \u001b[38;5;28;01mreturn\u001b[39;00m \u001b[38;5;28;43mself\u001b[39;49m\u001b[38;5;241;43m.\u001b[39;49m\u001b[43menv\u001b[49m\u001b[38;5;241;43m.\u001b[39;49m\u001b[43mstep\u001b[49m\u001b[43m(\u001b[49m\u001b[43maction\u001b[49m\u001b[43m)\u001b[49m\n",
      "File \u001b[1;32mc:\\Users\\glucas\\Desktop\\New folder\\super_mario_world-agent\\src\\gamenv\\gameenv.py:95\u001b[0m, in \u001b[0;36mGameEnv.step\u001b[1;34m(self, action)\u001b[0m\n\u001b[0;32m     92\u001b[0m game_over \u001b[38;5;241m=\u001b[39m \u001b[38;5;28;01mFalse\u001b[39;00m\n\u001b[0;32m     94\u001b[0m \u001b[38;5;28;01mif\u001b[39;00m GetForegroundWindow() \u001b[38;5;241m!=\u001b[39m \u001b[38;5;28mself\u001b[39m\u001b[38;5;241m.\u001b[39mcamera\u001b[38;5;241m.\u001b[39mwindow_handle:\n\u001b[1;32m---> 95\u001b[0m     \u001b[38;5;28;01mraise\u001b[39;00m \u001b[38;5;167;01mException\u001b[39;00m(\u001b[38;5;124mf\u001b[39m\u001b[38;5;124m\"\u001b[39m\u001b[38;5;132;01m{\u001b[39;00mGetWindowText(\u001b[38;5;28mself\u001b[39m\u001b[38;5;241m.\u001b[39mcamera\u001b[38;5;241m.\u001b[39mwindow_handle)\u001b[38;5;132;01m}\u001b[39;00m\u001b[38;5;124m cannot be minimized.\u001b[39m\u001b[38;5;124m\"\u001b[39m) \n\u001b[0;32m     97\u001b[0m \u001b[38;5;66;03m#self.toggle_pause()\u001b[39;00m\n\u001b[0;32m     98\u001b[0m \u001b[38;5;66;03m#print(\"unpaused\")\u001b[39;00m\n\u001b[0;32m     99\u001b[0m \n\u001b[1;32m   (...)\u001b[0m\n\u001b[0;32m    103\u001b[0m \u001b[38;5;66;03m# self.release_key('right_arrow')\u001b[39;00m\n\u001b[0;32m    104\u001b[0m \u001b[38;5;66;03m# self.release_key('c')\u001b[39;00m\n\u001b[0;32m    105\u001b[0m \u001b[38;5;28mself\u001b[39m\u001b[38;5;241m.\u001b[39mrelease_key(\u001b[38;5;124m'\u001b[39m\u001b[38;5;124mx\u001b[39m\u001b[38;5;124m'\u001b[39m)\n",
      "\u001b[1;31mException\u001b[0m: mario - Snes9x 1.62.3 cannot be minimized."
     ]
    }
   ],
   "source": [
    "import gym\n",
    "\n",
    "# Register the custom environment with Gym\n",
    "from gym.envs.registration import register\n",
    "\n",
    "register(\n",
    "    id='CustomGameEnv-v0',\n",
    "    entry_point='src.gamenv.gameenv:GameEnv',\n",
    "    max_episode_steps=200,  # Adjust as needed\n",
    ")\n",
    "\n",
    "# Create the environment\n",
    "env = gym.make('CustomGameEnv-v0')\n",
    "\n",
    "obs = env.reset()\n",
    "for _ in range(1000):  # Adjust as needed\n",
    "    action = env.action_space.sample()  # Replace with your RL agent's action\n",
    "    obs, reward, done, truncated, info = env.step(action)\n",
    "    env.render()\n",
    "    if done or truncated:\n",
    "        obs = env.reset()\n",
    "env.close()"
   ]
  },
  {
   "cell_type": "code",
   "execution_count": null,
   "id": "f67adcd4",
   "metadata": {},
   "outputs": [],
   "source": []
  },
  {
   "cell_type": "code",
   "execution_count": null,
   "metadata": {},
   "outputs": [],
   "source": [
    "D = 40_000\n",
    "GAMMA = 0.99\n",
    "LR = 0.00003\n",
    "\n",
    "# NUM_EPISODES = 10000\n",
    "SEQUENCE_LENGTH = 10\n",
    "BATCH_SIZE = 10\n",
    "\n",
    "EPS_NUM_STEPS = 2000\n",
    "EPS_START = 0.05\n",
    "EPS_END = 0.01\n",
    "EPS_DECAY = (EPS_START - EPS_END) / (EPS_NUM_STEPS)\n",
    "\n",
    "action_space = 3 # 4\n",
    "\n",
    "load_model = False\n",
    "model_name = \"2023_12_26_23_13_56\""
   ]
  },
  {
   "cell_type": "code",
   "execution_count": null,
   "metadata": {},
   "outputs": [],
   "source": [
    "import time\n",
    "from itertools import count\n",
    "from tensorboardX import SummaryWriter\n",
    "\n",
    "\n",
    "timestr = time.strftime(\"%Y_%m_%d_%H_%M_%S\")"
   ]
  },
  {
   "cell_type": "code",
   "execution_count": null,
   "id": "cecd428e",
   "metadata": {},
   "outputs": [
    {
     "ename": "NameError",
     "evalue": "name 'D' is not defined",
     "output_type": "error",
     "traceback": [
      "\u001b[1;31m---------------------------------------------------------------------------\u001b[0m",
      "\u001b[1;31mNameError\u001b[0m                                 Traceback (most recent call last)",
      "Cell \u001b[1;32mIn[6], line 4\u001b[0m\n\u001b[0;32m      1\u001b[0m \u001b[38;5;28;01mfrom\u001b[39;00m \u001b[38;5;21;01msrc\u001b[39;00m\u001b[38;5;21;01m.\u001b[39;00m\u001b[38;5;21;01mmemory\u001b[39;00m \u001b[38;5;28;01mimport\u001b[39;00m Memory, PrioritizedReplayMemory\n\u001b[0;32m      3\u001b[0m \u001b[38;5;66;03m# Initiliaze replay memory D to capacity N\u001b[39;00m\n\u001b[1;32m----> 4\u001b[0m replay_memory \u001b[38;5;241m=\u001b[39m PrioritizedReplayMemory(\u001b[43mD\u001b[49m, queue_push_thread\u001b[38;5;241m=\u001b[39m\u001b[38;5;28;01mTrue\u001b[39;00m)\n\u001b[0;32m      5\u001b[0m sequence \u001b[38;5;241m=\u001b[39m Memory(SEQUENCE_LENGTH)\n",
      "\u001b[1;31mNameError\u001b[0m: name 'D' is not defined"
     ]
    }
   ],
   "source": [
    "from src.memory import Memory, PrioritizedReplayMemory\n",
    "\n",
    "# Initiliaze replay memory D to capacity N\n",
    "replay_memory = PrioritizedReplayMemory(D, queue_push_thread=True)\n",
    "sequence = Memory(SEQUENCE_LENGTH)"
   ]
  },
  {
   "cell_type": "code",
   "execution_count": null,
   "id": "3be6948b",
   "metadata": {},
   "outputs": [],
   "source": [
    "from src.models.batch_model import DQN, phi, PromptQValues\n",
    "from torch import nn\n",
    "\n",
    "# Initialize action-value function Q with random weights\n",
    "\n",
    "lstm_n = 512 #512\n",
    "lstm_layers = 2\n",
    "\n",
    "policy_net = DQN(action_space, lstm_n, lstm_layers).to(device) # used to store teta\n",
    "target_net = DQN(action_space, lstm_n, lstm_layers).to(device) # used to store teta-1\n",
    "\n",
    "if load_model:\n",
    "    policy_net.load_state_dict(torch.load(f'./saved_models/{model_name}/policy_net'))\n",
    "    \n",
    "target_net.load_state_dict(policy_net.state_dict())\n",
    "\n",
    "optimizer = torch.optim.RMSprop(policy_net.parameters(), lr=LR)\n",
    "loss_fn = nn.MSELoss()\n",
    "\n"
   ]
  },
  {
   "cell_type": "code",
   "execution_count": null,
   "id": "56417fe0",
   "metadata": {},
   "outputs": [
    {
     "ename": "ValueError",
     "evalue": "std evaluated to zero after conversion to torch.float32, leading to division by zero.",
     "output_type": "error",
     "traceback": [
      "\u001b[1;31m---------------------------------------------------------------------------\u001b[0m",
      "\u001b[1;31mValueError\u001b[0m                                Traceback (most recent call last)",
      "Cell \u001b[1;32mIn[11], line 3\u001b[0m\n\u001b[0;32m      1\u001b[0m camera\u001b[38;5;241m.\u001b[39mset_foreground_game()\n\u001b[0;32m      2\u001b[0m frame \u001b[38;5;241m=\u001b[39m camera\u001b[38;5;241m.\u001b[39mget_frame()\n\u001b[1;32m----> 3\u001b[0m img \u001b[38;5;241m=\u001b[39m \u001b[43mphi\u001b[49m\u001b[43m(\u001b[49m\u001b[43mobservation\u001b[49m\u001b[38;5;241;43m=\u001b[39;49m\u001b[43mframe\u001b[49m\u001b[43m,\u001b[49m\u001b[43m \u001b[49m\u001b[43mdevice\u001b[49m\u001b[38;5;241;43m=\u001b[39;49m\u001b[43mdevice\u001b[49m\u001b[43m)\u001b[49m\n\u001b[0;32m      4\u001b[0m mean, std \u001b[38;5;241m=\u001b[39m img\u001b[38;5;241m.\u001b[39mmean([\u001b[38;5;241m1\u001b[39m,\u001b[38;5;241m2\u001b[39m]), img\u001b[38;5;241m.\u001b[39mstd([\u001b[38;5;241m1\u001b[39m,\u001b[38;5;241m2\u001b[39m])\n\u001b[0;32m      5\u001b[0m img \u001b[38;5;241m=\u001b[39m img\u001b[38;5;241m.\u001b[39mcpu()\u001b[38;5;241m.\u001b[39mnumpy()\n",
      "File \u001b[1;32mc:\\Users\\glucas\\Desktop\\New folder\\super_mario_world-agent\\src\\models\\batch_model.py:18\u001b[0m, in \u001b[0;36mphi\u001b[1;34m(observation, device)\u001b[0m\n\u001b[0;32m     16\u001b[0m x \u001b[38;5;241m=\u001b[39m torchvision\u001b[38;5;241m.\u001b[39mtransforms\u001b[38;5;241m.\u001b[39mResize(RESIZE, antialias\u001b[38;5;241m=\u001b[39m\u001b[38;5;28;01mTrue\u001b[39;00m)(x)\n\u001b[0;32m     17\u001b[0m mean, std \u001b[38;5;241m=\u001b[39m x\u001b[38;5;241m.\u001b[39mmean([\u001b[38;5;241m1\u001b[39m,\u001b[38;5;241m2\u001b[39m]), x\u001b[38;5;241m.\u001b[39mstd([\u001b[38;5;241m1\u001b[39m,\u001b[38;5;241m2\u001b[39m])\n\u001b[1;32m---> 18\u001b[0m x \u001b[38;5;241m=\u001b[39m \u001b[43mtorchvision\u001b[49m\u001b[38;5;241;43m.\u001b[39;49m\u001b[43mtransforms\u001b[49m\u001b[38;5;241;43m.\u001b[39;49m\u001b[43mNormalize\u001b[49m\u001b[43m(\u001b[49m\u001b[43mmean\u001b[49m\u001b[38;5;241;43m=\u001b[39;49m\u001b[43mmean\u001b[49m\u001b[43m,\u001b[49m\u001b[43m \u001b[49m\u001b[43mstd\u001b[49m\u001b[38;5;241;43m=\u001b[39;49m\u001b[43mstd\u001b[49m\u001b[43m)\u001b[49m\u001b[43m(\u001b[49m\u001b[43mx\u001b[49m\u001b[43m)\u001b[49m\n\u001b[0;32m     19\u001b[0m \u001b[38;5;28;01mreturn\u001b[39;00m x\n",
      "File \u001b[1;32mc:\\my tools\\environments\\pytorch_2_1_0_cuda_11_8\\Lib\\site-packages\\torch\\nn\\modules\\module.py:1518\u001b[0m, in \u001b[0;36mModule._wrapped_call_impl\u001b[1;34m(self, *args, **kwargs)\u001b[0m\n\u001b[0;32m   1516\u001b[0m     \u001b[38;5;28;01mreturn\u001b[39;00m \u001b[38;5;28mself\u001b[39m\u001b[38;5;241m.\u001b[39m_compiled_call_impl(\u001b[38;5;241m*\u001b[39margs, \u001b[38;5;241m*\u001b[39m\u001b[38;5;241m*\u001b[39mkwargs)  \u001b[38;5;66;03m# type: ignore[misc]\u001b[39;00m\n\u001b[0;32m   1517\u001b[0m \u001b[38;5;28;01melse\u001b[39;00m:\n\u001b[1;32m-> 1518\u001b[0m     \u001b[38;5;28;01mreturn\u001b[39;00m \u001b[38;5;28;43mself\u001b[39;49m\u001b[38;5;241;43m.\u001b[39;49m\u001b[43m_call_impl\u001b[49m\u001b[43m(\u001b[49m\u001b[38;5;241;43m*\u001b[39;49m\u001b[43margs\u001b[49m\u001b[43m,\u001b[49m\u001b[43m \u001b[49m\u001b[38;5;241;43m*\u001b[39;49m\u001b[38;5;241;43m*\u001b[39;49m\u001b[43mkwargs\u001b[49m\u001b[43m)\u001b[49m\n",
      "File \u001b[1;32mc:\\my tools\\environments\\pytorch_2_1_0_cuda_11_8\\Lib\\site-packages\\torch\\nn\\modules\\module.py:1527\u001b[0m, in \u001b[0;36mModule._call_impl\u001b[1;34m(self, *args, **kwargs)\u001b[0m\n\u001b[0;32m   1522\u001b[0m \u001b[38;5;66;03m# If we don't have any hooks, we want to skip the rest of the logic in\u001b[39;00m\n\u001b[0;32m   1523\u001b[0m \u001b[38;5;66;03m# this function, and just call forward.\u001b[39;00m\n\u001b[0;32m   1524\u001b[0m \u001b[38;5;28;01mif\u001b[39;00m \u001b[38;5;129;01mnot\u001b[39;00m (\u001b[38;5;28mself\u001b[39m\u001b[38;5;241m.\u001b[39m_backward_hooks \u001b[38;5;129;01mor\u001b[39;00m \u001b[38;5;28mself\u001b[39m\u001b[38;5;241m.\u001b[39m_backward_pre_hooks \u001b[38;5;129;01mor\u001b[39;00m \u001b[38;5;28mself\u001b[39m\u001b[38;5;241m.\u001b[39m_forward_hooks \u001b[38;5;129;01mor\u001b[39;00m \u001b[38;5;28mself\u001b[39m\u001b[38;5;241m.\u001b[39m_forward_pre_hooks\n\u001b[0;32m   1525\u001b[0m         \u001b[38;5;129;01mor\u001b[39;00m _global_backward_pre_hooks \u001b[38;5;129;01mor\u001b[39;00m _global_backward_hooks\n\u001b[0;32m   1526\u001b[0m         \u001b[38;5;129;01mor\u001b[39;00m _global_forward_hooks \u001b[38;5;129;01mor\u001b[39;00m _global_forward_pre_hooks):\n\u001b[1;32m-> 1527\u001b[0m     \u001b[38;5;28;01mreturn\u001b[39;00m \u001b[43mforward_call\u001b[49m\u001b[43m(\u001b[49m\u001b[38;5;241;43m*\u001b[39;49m\u001b[43margs\u001b[49m\u001b[43m,\u001b[49m\u001b[43m \u001b[49m\u001b[38;5;241;43m*\u001b[39;49m\u001b[38;5;241;43m*\u001b[39;49m\u001b[43mkwargs\u001b[49m\u001b[43m)\u001b[49m\n\u001b[0;32m   1529\u001b[0m \u001b[38;5;28;01mtry\u001b[39;00m:\n\u001b[0;32m   1530\u001b[0m     result \u001b[38;5;241m=\u001b[39m \u001b[38;5;28;01mNone\u001b[39;00m\n",
      "File \u001b[1;32mc:\\my tools\\environments\\pytorch_2_1_0_cuda_11_8\\Lib\\site-packages\\torchvision\\transforms\\transforms.py:277\u001b[0m, in \u001b[0;36mNormalize.forward\u001b[1;34m(self, tensor)\u001b[0m\n\u001b[0;32m    269\u001b[0m \u001b[38;5;28;01mdef\u001b[39;00m \u001b[38;5;21mforward\u001b[39m(\u001b[38;5;28mself\u001b[39m, tensor: Tensor) \u001b[38;5;241m-\u001b[39m\u001b[38;5;241m>\u001b[39m Tensor:\n\u001b[0;32m    270\u001b[0m \u001b[38;5;250m    \u001b[39m\u001b[38;5;124;03m\"\"\"\u001b[39;00m\n\u001b[0;32m    271\u001b[0m \u001b[38;5;124;03m    Args:\u001b[39;00m\n\u001b[0;32m    272\u001b[0m \u001b[38;5;124;03m        tensor (Tensor): Tensor image to be normalized.\u001b[39;00m\n\u001b[1;32m   (...)\u001b[0m\n\u001b[0;32m    275\u001b[0m \u001b[38;5;124;03m        Tensor: Normalized Tensor image.\u001b[39;00m\n\u001b[0;32m    276\u001b[0m \u001b[38;5;124;03m    \"\"\"\u001b[39;00m\n\u001b[1;32m--> 277\u001b[0m     \u001b[38;5;28;01mreturn\u001b[39;00m \u001b[43mF\u001b[49m\u001b[38;5;241;43m.\u001b[39;49m\u001b[43mnormalize\u001b[49m\u001b[43m(\u001b[49m\u001b[43mtensor\u001b[49m\u001b[43m,\u001b[49m\u001b[43m \u001b[49m\u001b[38;5;28;43mself\u001b[39;49m\u001b[38;5;241;43m.\u001b[39;49m\u001b[43mmean\u001b[49m\u001b[43m,\u001b[49m\u001b[43m \u001b[49m\u001b[38;5;28;43mself\u001b[39;49m\u001b[38;5;241;43m.\u001b[39;49m\u001b[43mstd\u001b[49m\u001b[43m,\u001b[49m\u001b[43m \u001b[49m\u001b[38;5;28;43mself\u001b[39;49m\u001b[38;5;241;43m.\u001b[39;49m\u001b[43minplace\u001b[49m\u001b[43m)\u001b[49m\n",
      "File \u001b[1;32mc:\\my tools\\environments\\pytorch_2_1_0_cuda_11_8\\Lib\\site-packages\\torchvision\\transforms\\functional.py:363\u001b[0m, in \u001b[0;36mnormalize\u001b[1;34m(tensor, mean, std, inplace)\u001b[0m\n\u001b[0;32m    360\u001b[0m \u001b[38;5;28;01mif\u001b[39;00m \u001b[38;5;129;01mnot\u001b[39;00m \u001b[38;5;28misinstance\u001b[39m(tensor, torch\u001b[38;5;241m.\u001b[39mTensor):\n\u001b[0;32m    361\u001b[0m     \u001b[38;5;28;01mraise\u001b[39;00m \u001b[38;5;167;01mTypeError\u001b[39;00m(\u001b[38;5;124mf\u001b[39m\u001b[38;5;124m\"\u001b[39m\u001b[38;5;124mimg should be Tensor Image. Got \u001b[39m\u001b[38;5;132;01m{\u001b[39;00m\u001b[38;5;28mtype\u001b[39m(tensor)\u001b[38;5;132;01m}\u001b[39;00m\u001b[38;5;124m\"\u001b[39m)\n\u001b[1;32m--> 363\u001b[0m \u001b[38;5;28;01mreturn\u001b[39;00m \u001b[43mF_t\u001b[49m\u001b[38;5;241;43m.\u001b[39;49m\u001b[43mnormalize\u001b[49m\u001b[43m(\u001b[49m\u001b[43mtensor\u001b[49m\u001b[43m,\u001b[49m\u001b[43m \u001b[49m\u001b[43mmean\u001b[49m\u001b[38;5;241;43m=\u001b[39;49m\u001b[43mmean\u001b[49m\u001b[43m,\u001b[49m\u001b[43m \u001b[49m\u001b[43mstd\u001b[49m\u001b[38;5;241;43m=\u001b[39;49m\u001b[43mstd\u001b[49m\u001b[43m,\u001b[49m\u001b[43m \u001b[49m\u001b[43minplace\u001b[49m\u001b[38;5;241;43m=\u001b[39;49m\u001b[43minplace\u001b[49m\u001b[43m)\u001b[49m\n",
      "File \u001b[1;32mc:\\my tools\\environments\\pytorch_2_1_0_cuda_11_8\\Lib\\site-packages\\torchvision\\transforms\\_functional_tensor.py:923\u001b[0m, in \u001b[0;36mnormalize\u001b[1;34m(tensor, mean, std, inplace)\u001b[0m\n\u001b[0;32m    921\u001b[0m std \u001b[38;5;241m=\u001b[39m torch\u001b[38;5;241m.\u001b[39mas_tensor(std, dtype\u001b[38;5;241m=\u001b[39mdtype, device\u001b[38;5;241m=\u001b[39mtensor\u001b[38;5;241m.\u001b[39mdevice)\n\u001b[0;32m    922\u001b[0m \u001b[38;5;28;01mif\u001b[39;00m (std \u001b[38;5;241m==\u001b[39m \u001b[38;5;241m0\u001b[39m)\u001b[38;5;241m.\u001b[39many():\n\u001b[1;32m--> 923\u001b[0m     \u001b[38;5;28;01mraise\u001b[39;00m \u001b[38;5;167;01mValueError\u001b[39;00m(\u001b[38;5;124mf\u001b[39m\u001b[38;5;124m\"\u001b[39m\u001b[38;5;124mstd evaluated to zero after conversion to \u001b[39m\u001b[38;5;132;01m{\u001b[39;00mdtype\u001b[38;5;132;01m}\u001b[39;00m\u001b[38;5;124m, leading to division by zero.\u001b[39m\u001b[38;5;124m\"\u001b[39m)\n\u001b[0;32m    924\u001b[0m \u001b[38;5;28;01mif\u001b[39;00m mean\u001b[38;5;241m.\u001b[39mndim \u001b[38;5;241m==\u001b[39m \u001b[38;5;241m1\u001b[39m:\n\u001b[0;32m    925\u001b[0m     mean \u001b[38;5;241m=\u001b[39m mean\u001b[38;5;241m.\u001b[39mview(\u001b[38;5;241m-\u001b[39m\u001b[38;5;241m1\u001b[39m, \u001b[38;5;241m1\u001b[39m, \u001b[38;5;241m1\u001b[39m)\n",
      "\u001b[1;31mValueError\u001b[0m: std evaluated to zero after conversion to torch.float32, leading to division by zero."
     ]
    }
   ],
   "source": [
    "camera.set_foreground_game()\n",
    "frame = camera.get_frame()\n",
    "img = phi(observation=frame, device=device)\n",
    "mean, std = img.mean([1,2]), img.std([1,2])\n",
    "img = img.cpu().numpy()\n",
    "img = img.transpose((1,2,0))\n",
    "print(img.shape)\n",
    "print(mean, std)\n",
    "\n",
    "fig, axes = plt.subplots(1, 3, gridspec_kw={'wspace': 0, 'hspace': 0}, dpi=200)\n",
    "axes[0].imshow(img[:,:,0])\n",
    "axes[1].imshow(img[:,:,1])\n",
    "axes[2].imshow(img[:,:,2])\n",
    "for ax in axes.flatten():\n",
    "    ax.set_xticks([])\n",
    "    ax.set_yticks([])\n",
    "plt.subplots_adjust(left=0, right=1, top=1, bottom=0)\n",
    "plt.show()"
   ]
  },
  {
   "cell_type": "code",
   "execution_count": null,
   "id": "0fdf3413",
   "metadata": {},
   "outputs": [],
   "source": [
    "def assert_sequence(sequence: Memory):\n",
    "    if len(sequence) == SEQUENCE_LENGTH:\n",
    "        sequence_state = sequence.render_simple()\n",
    "        for i in range(len(sequence_state)):\n",
    "            print(f\"{i}\")\n",
    "            plt.imshow(sequence_state[i].cpu().numpy().transpose((1,2,0)))\n",
    "            plt.show()\n",
    "        input()"
   ]
  },
  {
   "cell_type": "code",
   "execution_count": null,
   "id": "88c4361f",
   "metadata": {},
   "outputs": [],
   "source": [
    "global steps\n",
    "steps = 0\n",
    "episode = 0"
   ]
  },
  {
   "cell_type": "code",
   "execution_count": null,
   "id": "63cde30e",
   "metadata": {},
   "outputs": [],
   "source": [
    "import datetime, threading\n",
    "train_lock = threading.Lock()\n",
    "\n",
    "loss = 0\n",
    "policy_net.train()\n",
    "writer = SummaryWriter(logdir=\"runs/\"+timestr)\n",
    "\n",
    "global thread_running\n",
    "thread_running = False\n",
    "\n",
    "def play():\n",
    "    global thread_running\n",
    "    global steps\n",
    "    episode = 0\n",
    "    epsilon = EPS_START\n",
    "    time.sleep(2)\n",
    "    camera.set_foreground_game()\n",
    "    time.sleep(0.2)\n",
    "    # with SummaryWriter(logdir=\"runs/\"+timestr) as writer:\n",
    "    try:\n",
    "        while steps < D*50-50:\n",
    "            time.sleep(0.1)\n",
    "            with train_lock:\n",
    "                ep_rewards = 0\n",
    "                ep_qvalues = 0\n",
    "                ep_loss = 0\n",
    "                \n",
    "                # Initialise sequence s1 = {x1} and preprocessed sequenced φ1 = φ(s1)\n",
    "                observation = game_env.reset()\n",
    "                state = phi(observation, device)\n",
    "                last_reward = 0\n",
    "                # sequence.clear()\n",
    "\n",
    "                after_act_time = time.perf_counter()\n",
    "                after_start_time_s = time.perf_counter()\n",
    "                \n",
    "                print(thread_running)\n",
    "                if not thread_running:\n",
    "                    return\n",
    "                for t in count():\n",
    "                    elapsed_after_act_time = time.perf_counter() - after_act_time\n",
    "                    after_start_time_s = time.perf_counter()\n",
    "                    step_time_start = time.perf_counter()\n",
    "                    # print(len(sequence), t)\n",
    "\n",
    "                    sequence_render_time = time.perf_counter()\n",
    "                    sequence.push(state)\n",
    "                    sequence_state = sequence.render_simple()\n",
    "                    sequence_render_time = time.perf_counter() - sequence_render_time\n",
    "\n",
    "                    # assert_sequence(sequence)\n",
    "\n",
    "                    predict_time = time.perf_counter()\n",
    "\n",
    "                    with torch.no_grad():\n",
    "                        hn = torch.zeros(lstm_layers, lstm_n, dtype=torch.float32, device=device)\n",
    "                        cn = torch.zeros(lstm_layers, lstm_n, dtype=torch.float32, device=device)\n",
    "                        \n",
    "                        q_value_action, (hn, cn) = policy_net(sequence_state, (hn, cn))\n",
    "                        q_value_action = q_value_action[-1:]\n",
    "                        # prompt_q_values.set_qvalues(q_value_action[0].cpu().numpy())\n",
    "                        q_value_action = q_value_action.max(1)\n",
    "                        \n",
    "                        q_value = q_value_action[0].item()\n",
    "                        ep_qvalues += q_value\n",
    "                    \n",
    "                    predict_time = time.perf_counter() - predict_time\n",
    "                    if predict_time > 0.2:\n",
    "                        print(\"big time\")\n",
    "                    \n",
    "                    # With probability eps select a random action at\n",
    "                    epsilon = epsilon - EPS_DECAY if epsilon > EPS_END else EPS_END\n",
    "                    if random.uniform(0, 1) < epsilon:\n",
    "                        action = torch.tensor([[random.randint(0, action_space-1)]], dtype=torch.long)\n",
    "                    # otherwise select at = maxaQ*(phi(st), a; teta)\n",
    "                    else:\n",
    "                        action = q_value_action[1].view(1,1)\n",
    "                        # print(action)\n",
    "\n",
    "                    # Execute action at in emulator and observe reward rt and image xt+1\n",
    "                    observation, reward, game_over = game_env.step(action.item())\n",
    "                    after_start_time = time.perf_counter() - after_start_time_s\n",
    "                    after_act_time = time.perf_counter()\n",
    "\n",
    "                    ep_rewards += reward\n",
    "                    #print(reward)\n",
    "                    reward = torch.tensor([reward], dtype=torch.float32)\n",
    "\n",
    "                    # Set st+1 = st, at, xt+1 and preprocess phit+1 = phi(st+1)\n",
    "                    if game_over:\n",
    "                        next_state = None # ordem provavelmente errada\n",
    "                    else:\n",
    "                        next_state = phi(observation, device)\n",
    "                        # sequence.push(next_state)\n",
    "                        # rendered, next_sequence_state = sequence.render()\n",
    "\n",
    "                    #if sequence_state != None:\n",
    "                    # replay_memory.push((sequence_state, action, reward, next_sequence_state))\n",
    "                    \n",
    "                    replay_memory.push_queue(state.cpu(), action, reward, next_state.cpu())\n",
    "                    \n",
    "                    # writer\n",
    "                    writer.add_scalar(\"Reward/reward\", reward, steps)\n",
    "                    writer.add_scalar(\"Qvalue/qvalue\", q_value, steps)\n",
    "                    writer.add_scalar(\"Epsilon/epsilon\", epsilon, steps)\n",
    "                    if not game_over:\n",
    "                        writer.add_scalar(\"Steps/Execution_Time\", (time.perf_counter() - step_time_start), steps),\n",
    "                        writer.add_scalar(\"Steps/elapsed_after_act_time\", (elapsed_after_act_time), steps),\n",
    "                        writer.add_scalar(\"Steps/after_start_time\", (after_start_time), steps)\n",
    "                        writer.add_scalar(\"Steps/sequence_render_time\", sequence_render_time, steps)\n",
    "                        writer.add_scalar(\"Steps/predict_time\", predict_time, steps)\n",
    "                        \n",
    "                    writer.flush()\n",
    "                    \n",
    "                    # adding ep log\n",
    "                    ep_rewards += reward\n",
    "\n",
    "                    # sequence_state = next_sequence_state \n",
    "                    state = next_state\n",
    "                    steps += 1\n",
    "                    if game_over:\n",
    "                        \n",
    "                        # ep log\n",
    "                        ep_reward_mean = ep_rewards / (t+1)\n",
    "                        writer.add_scalar(\"Episode/reward_mean\", ep_reward_mean, episode)\n",
    "\n",
    "                        break\n",
    "                episode += 1\n",
    "                # writer.flush()\n",
    "    except Exception as e:\n",
    "        print(e)\n",
    "        thread_running = False\n",
    "    \n",
    "def train():\n",
    "    global thread_running\n",
    "    train_steps = 0\n",
    "    last_play_steps = 0\n",
    "    K = 0\n",
    "\n",
    "    while True:\n",
    "\n",
    "        if not thread_running:\n",
    "            return\n",
    "        \n",
    "        if len(replay_memory) > BATCH_SIZE: # and steps > 200:\n",
    "            with train_lock:\n",
    "                with replay_memory.memory_lock:\n",
    "                    K = ((steps - last_play_steps)) * 2\n",
    "                    last_play_steps = steps\n",
    "                    loss = []\n",
    "                    total_loss = 0\n",
    "                    for k in range(K):\n",
    "                        optimizer.zero_grad()\n",
    "                        clear_output(wait=True)\n",
    "                        print(f\"{k} / {K}\")\n",
    "                        loss.append(policy_net.q_train(target_net, optimizer, loss_fn, replay_memory.sample_sequence(BATCH_SIZE), GAMMA, lstm_n, lstm_layers, replay_memory, device))\n",
    "\n",
    "                        if (k+1) % 10 == 0:\n",
    "                            loss = torch.cat(loss)\n",
    "                            loss = loss.mean()\n",
    "                            loss.backward()\n",
    "                            torch.nn.utils.clip_grad_norm_(policy_net.parameters(), 5.0)\n",
    "                            optimizer.step()\n",
    "                            total_loss += loss.item()\n",
    "                            loss = []\n",
    "                            \n",
    "                    if len(loss) > 0:\n",
    "                        # loss = torch.cat([policy_net.q_train(target_net, optimizer, loss_fn, replay_memory.sample_sequence(BATCH_SIZE), GAMMA, lstm_n, lstm_layers, replay_memory, device) for _ in range(K)])\n",
    "                        loss = torch.cat(loss)\n",
    "                        loss = loss.mean()\n",
    "                        loss.backward()\n",
    "                        torch.nn.utils.clip_grad_norm_(policy_net.parameters(), 5.0)\n",
    "                        optimizer.step()\n",
    "                        total_loss += loss.item()\n",
    "                        clear_output()\n",
    "                    print(f\"total_loss:{total_loss}\")\n",
    "            # ep_loss += loss\n",
    "            writer.add_scalar(\"Loss/loss\", total_loss, train_steps)\n",
    "            \"\"\"\n",
    "            if (t+1) % SEQUENCE_LENGTH == 0:\n",
    "                clear_output(wait=True)\n",
    "                print('loss:', ep_loss, 'step:', steps, 'epsilon:', epsilon, 'last_reward:', ep_rewards, 'ep:', episode)\n",
    "                writer.add_scalar(\"Loss/ep_loss\", ep_loss / SEQUENCE_LENGTH, steps)\n",
    "                writer.add_scalar(\"Reward/ep_rewards\", ep_rewards / SEQUENCE_LENGTH, steps)\n",
    "                writer.add_scalar(\"Qvalue/ep_qvalues\", ep_qvalues / SEQUENCE_LENGTH, steps)\n",
    "                ep_rewards = 0\n",
    "                ep_qvalues = 0\n",
    "                ep_loss = 0\n",
    "            \"\"\"\n",
    "            \"\"\"\n",
    "            if train_steps%100 == 0:\n",
    "                clear_output(wait=True)\n",
    "                print(f\"loss: {loss}\")\n",
    "            \"\"\"\n",
    "            train_steps += 1\n",
    "            if train_steps % 20 == 0:\n",
    "                target_net.load_state_dict(policy_net.state_dict())\n",
    "            time.sleep(0.1)\n",
    "        else:\n",
    "            print(\"dont have sufficient memory to train...\")\n",
    "            time.sleep(1)\n"
   ]
  },
  {
   "cell_type": "code",
   "execution_count": null,
   "id": "fb10e681",
   "metadata": {},
   "outputs": [],
   "source": [
    "replay_memory.start_queue_thread()"
   ]
  },
  {
   "cell_type": "code",
   "execution_count": null,
   "id": "391ca263",
   "metadata": {},
   "outputs": [
    {
     "name": "stdout",
     "output_type": "stream",
     "text": [
      "total_loss:0.1244007358327508\n",
      "threads ended.\n"
     ]
    }
   ],
   "source": [
    "play_thread = threading.Thread(target=play, daemon=True)\n",
    "train_thread = threading.Thread(target=train, daemon=True)\n",
    "\n",
    "thread_running = True\n",
    "\n",
    "play_thread.start()\n",
    "train_thread.start()\n",
    "print(\"threads started...\")\n",
    "\n",
    "play_thread.join()\n",
    "train_thread.join()\n",
    "# replay_memory.thread.join()\n",
    "print(\"threads ended.\")"
   ]
  },
  {
   "cell_type": "code",
   "execution_count": null,
   "id": "a44ec2ff",
   "metadata": {},
   "outputs": [
    {
     "name": "stdout",
     "output_type": "stream",
     "text": [
      "5\n",
      "(tensor([[[-0.2450, -0.2450, -0.2450,  ..., -0.2450, -0.2450, -0.2450],\n",
      "         [-0.2450, -0.2450, -0.2450,  ..., -0.2450, -0.2450, -0.2450],\n",
      "         [-0.2450, -0.2450, -0.2450,  ..., -0.2450, -0.2450, -0.2450],\n",
      "         ...,\n",
      "         [ 4.3938,  4.3981,  4.3981,  ...,  4.3377,  4.0833,  4.1615],\n",
      "         [ 4.3836,  4.3981,  4.3981,  ...,  4.3395,  4.0931,  4.1708],\n",
      "         [ 4.3869,  4.3981,  4.3981,  ...,  4.3859,  4.3348,  4.3555]],\n",
      "\n",
      "        [[ 0.4148,  0.5830,  0.7602,  ..., -0.6283, -0.5645, -0.3477],\n",
      "         [ 0.6441,  0.8757,  0.8940,  ..., -0.6342, -0.6297, -0.5006],\n",
      "         [ 0.8747,  0.6404,  0.4311,  ..., -0.6342, -0.6338, -0.6164],\n",
      "         ...,\n",
      "         [ 0.8536,  0.8370,  0.8370,  ...,  0.9960,  1.6944,  1.4790],\n",
      "         [ 0.8764,  0.8370,  0.8370,  ...,  0.9926,  1.6790,  1.4651],\n",
      "         [ 0.8682,  0.8370,  0.8370,  ...,  0.8686,  1.0085,  0.9647]],\n",
      "\n",
      "        [[ 1.3233,  1.5560,  1.8015,  ..., -0.2011, -0.0925,  0.2726],\n",
      "         [ 1.6471,  1.9744,  1.9961,  ..., -0.2093, -0.2016,  0.0186],\n",
      "         [ 1.9684,  1.6404,  1.3560,  ..., -0.2093, -0.2086, -0.1764],\n",
      "         ...,\n",
      "         [ 3.7364,  3.7286,  3.7286,  ...,  3.8088,  4.1577,  4.0533],\n",
      "         [ 3.7480,  3.7286,  3.7286,  ...,  3.8069,  4.1491,  4.0460],\n",
      "         [ 3.7427,  3.7286,  3.7286,  ...,  3.7440,  3.8141,  3.7918]]],\n",
      "       device='cuda:0'), tensor([[[-0.2450, -0.2450, -0.2450,  ..., -0.2450, -0.2450, -0.2450],\n",
      "         [-0.2450, -0.2450, -0.2450,  ..., -0.2450, -0.2450, -0.2450],\n",
      "         [-0.2450, -0.2450, -0.2450,  ..., -0.2450, -0.2450, -0.2450],\n",
      "         ...,\n",
      "         [ 4.3938,  4.3981,  4.3981,  ...,  4.3377,  4.0833,  4.1615],\n",
      "         [ 4.3836,  4.3981,  4.3981,  ...,  4.3395,  4.0931,  4.1708],\n",
      "         [ 4.3869,  4.3981,  4.3981,  ...,  4.3859,  4.3348,  4.3555]],\n",
      "\n",
      "        [[ 0.4148,  0.5830,  0.7602,  ..., -0.6283, -0.5645, -0.3477],\n",
      "         [ 0.6441,  0.8757,  0.8940,  ..., -0.6342, -0.6297, -0.5006],\n",
      "         [ 0.8747,  0.6404,  0.4311,  ..., -0.6342, -0.6338, -0.6164],\n",
      "         ...,\n",
      "         [ 0.8536,  0.8370,  0.8370,  ...,  0.9960,  1.6944,  1.4790],\n",
      "         [ 0.8764,  0.8370,  0.8370,  ...,  0.9926,  1.6790,  1.4651],\n",
      "         [ 0.8682,  0.8370,  0.8370,  ...,  0.8686,  1.0085,  0.9647]],\n",
      "\n",
      "        [[ 1.3233,  1.5560,  1.8015,  ..., -0.2011, -0.0925,  0.2726],\n",
      "         [ 1.6471,  1.9744,  1.9961,  ..., -0.2093, -0.2016,  0.0186],\n",
      "         [ 1.9684,  1.6404,  1.3560,  ..., -0.2093, -0.2086, -0.1764],\n",
      "         ...,\n",
      "         [ 3.7364,  3.7286,  3.7286,  ...,  3.8088,  4.1577,  4.0533],\n",
      "         [ 3.7480,  3.7286,  3.7286,  ...,  3.8069,  4.1491,  4.0460],\n",
      "         [ 3.7427,  3.7286,  3.7286,  ...,  3.7440,  3.8141,  3.7918]]],\n",
      "       device='cuda:0'), tensor([[[-0.2448, -0.2448, -0.2448,  ..., -0.2448, -0.2448, -0.2448],\n",
      "         [-0.2448, -0.2448, -0.2448,  ..., -0.2448, -0.2448, -0.2448],\n",
      "         [-0.2448, -0.2448, -0.2448,  ..., -0.2448, -0.2448, -0.2448],\n",
      "         ...,\n",
      "         [ 4.3978,  4.4022,  4.4022,  ...,  4.3417,  4.0871,  4.1654],\n",
      "         [ 4.3876,  4.4022,  4.4022,  ...,  4.3435,  4.0969,  4.1747],\n",
      "         [ 4.3909,  4.4022,  4.4022,  ...,  4.3899,  4.3388,  4.3595]],\n",
      "\n",
      "        [[ 0.4127,  0.5806,  0.7574,  ..., -0.6286, -0.5650, -0.3485],\n",
      "         [ 0.6415,  0.8728,  0.8911,  ..., -0.6345, -0.6300, -0.5012],\n",
      "         [ 0.8718,  0.6379,  0.4289,  ..., -0.6345, -0.6342, -0.6168],\n",
      "         ...,\n",
      "         [ 0.8507,  0.8342,  0.8342,  ...,  0.9928,  1.6901,  1.4750],\n",
      "         [ 0.8735,  0.8341,  0.8342,  ...,  0.9894,  1.6747,  1.4612],\n",
      "         [ 0.8653,  0.8341,  0.8342,  ...,  0.8657,  1.0054,  0.9616]],\n",
      "\n",
      "        [[ 1.3233,  1.5560,  1.8016,  ..., -0.2014, -0.0927,  0.2724],\n",
      "         [ 1.6471,  1.9745,  1.9962,  ..., -0.2096, -0.2019,  0.0184],\n",
      "         [ 1.9685,  1.6405,  1.3560,  ..., -0.2096, -0.2089, -0.1767],\n",
      "         ...,\n",
      "         [ 3.7367,  3.7290,  3.7290,  ...,  3.8092,  4.1582,  4.0537],\n",
      "         [ 3.7484,  3.7290,  3.7290,  ...,  3.8074,  4.1495,  4.0465],\n",
      "         [ 3.7431,  3.7290,  3.7290,  ...,  3.7444,  3.8145,  3.7922]]],\n",
      "       device='cuda:0'), tensor([[[-0.2450, -0.2450, -0.2450,  ..., -0.2450, -0.2450, -0.2450],\n",
      "         [-0.2450, -0.2450, -0.2450,  ..., -0.2450, -0.2450, -0.2450],\n",
      "         [-0.2450, -0.2450, -0.2450,  ..., -0.2450, -0.2450, -0.2450],\n",
      "         ...,\n",
      "         [ 4.3938,  4.3981,  4.3981,  ...,  4.3377,  4.0833,  4.1615],\n",
      "         [ 4.3836,  4.3981,  4.3981,  ...,  4.3395,  4.0931,  4.1708],\n",
      "         [ 4.3869,  4.3981,  4.3981,  ...,  4.3859,  4.3348,  4.3555]],\n",
      "\n",
      "        [[ 0.4148,  0.5830,  0.7602,  ..., -0.6283, -0.5645, -0.3477],\n",
      "         [ 0.6441,  0.8757,  0.8940,  ..., -0.6342, -0.6297, -0.5006],\n",
      "         [ 0.8747,  0.6404,  0.4311,  ..., -0.6342, -0.6338, -0.6164],\n",
      "         ...,\n",
      "         [ 0.8536,  0.8370,  0.8370,  ...,  0.9960,  1.6944,  1.4790],\n",
      "         [ 0.8764,  0.8370,  0.8370,  ...,  0.9926,  1.6790,  1.4651],\n",
      "         [ 0.8682,  0.8370,  0.8370,  ...,  0.8686,  1.0085,  0.9647]],\n",
      "\n",
      "        [[ 1.3233,  1.5560,  1.8015,  ..., -0.2011, -0.0925,  0.2726],\n",
      "         [ 1.6471,  1.9744,  1.9961,  ..., -0.2093, -0.2016,  0.0186],\n",
      "         [ 1.9684,  1.6404,  1.3560,  ..., -0.2093, -0.2086, -0.1764],\n",
      "         ...,\n",
      "         [ 3.7364,  3.7286,  3.7286,  ...,  3.8088,  4.1577,  4.0533],\n",
      "         [ 3.7480,  3.7286,  3.7286,  ...,  3.8069,  4.1491,  4.0460],\n",
      "         [ 3.7427,  3.7286,  3.7286,  ...,  3.7440,  3.8141,  3.7918]]],\n",
      "       device='cuda:0'), tensor([[[-0.2448, -0.2448, -0.2448,  ..., -0.2448, -0.2448, -0.2448],\n",
      "         [-0.2448, -0.2448, -0.2448,  ..., -0.2448, -0.2448, -0.2448],\n",
      "         [-0.2448, -0.2448, -0.2448,  ..., -0.2448, -0.2448, -0.2448],\n",
      "         ...,\n",
      "         [ 4.3980,  4.4023,  4.4023,  ...,  4.3419,  4.0873,  4.1656],\n",
      "         [ 4.3878,  4.4023,  4.4023,  ...,  4.3437,  4.0970,  4.1748],\n",
      "         [ 4.3911,  4.4023,  4.4023,  ...,  4.3901,  4.3390,  4.3597]],\n",
      "\n",
      "        [[ 0.4126,  0.5805,  0.7572,  ..., -0.6282, -0.5645, -0.3482],\n",
      "         [ 0.6414,  0.8724,  0.8907,  ..., -0.6341, -0.6295, -0.5007],\n",
      "         [ 0.8715,  0.6377,  0.4289,  ..., -0.6341, -0.6337, -0.6163],\n",
      "         ...,\n",
      "         [ 0.8504,  0.8339,  0.8339,  ...,  0.9924,  1.6893,  1.4744],\n",
      "         [ 0.8732,  0.8338,  0.8339,  ...,  0.9891,  1.6739,  1.4606],\n",
      "         [ 0.8650,  0.8338,  0.8339,  ...,  0.8654,  1.0050,  0.9612]],\n",
      "\n",
      "        [[ 1.3241,  1.5570,  1.8026,  ..., -0.2013, -0.0926,  0.2728],\n",
      "         [ 1.6481,  1.9756,  1.9973,  ..., -0.2095, -0.2018,  0.0185],\n",
      "         [ 1.9696,  1.6414,  1.3568,  ..., -0.2095, -0.2088, -0.1766],\n",
      "         ...,\n",
      "         [ 3.7387,  3.7309,  3.7309,  ...,  3.8112,  4.1604,  4.0558],\n",
      "         [ 3.7503,  3.7309,  3.7309,  ...,  3.8093,  4.1517,  4.0486],\n",
      "         [ 3.7450,  3.7309,  3.7309,  ...,  3.7463,  3.8165,  3.7942]]],\n",
      "       device='cuda:0'))\n"
     ]
    },
    {
     "ename": "AttributeError",
     "evalue": "'tuple' object has no attribute 'shape'",
     "output_type": "error",
     "traceback": [
      "\u001b[1;31m---------------------------------------------------------------------------\u001b[0m",
      "\u001b[1;31mAttributeError\u001b[0m                            Traceback (most recent call last)",
      "Cell \u001b[1;32mIn[17], line 6\u001b[0m\n\u001b[0;32m      4\u001b[0m \u001b[38;5;66;03m# sequence_state = sequence.render_simple()\u001b[39;00m\n\u001b[0;32m      5\u001b[0m \u001b[38;5;28mprint\u001b[39m(sequence_state[\u001b[38;5;241m0\u001b[39m])\n\u001b[1;32m----> 6\u001b[0m \u001b[43mprompt_conv\u001b[49m\u001b[43m(\u001b[49m\u001b[43msequence_state\u001b[49m\u001b[43m)\u001b[49m\n",
      "File \u001b[1;32mc:\\Users\\glucas\\Documents\\a\\repos\\random-things-i-do\\reinforcement-learning\\super_mario_world-agent\\src\\models\\batch_model.py:46\u001b[0m, in \u001b[0;36mprompt_conv\u001b[1;34m(x)\u001b[0m\n\u001b[0;32m     45\u001b[0m \u001b[38;5;28;01mdef\u001b[39;00m \u001b[38;5;21mprompt_conv\u001b[39m(x):\n\u001b[1;32m---> 46\u001b[0m     \u001b[38;5;28mprint\u001b[39m(\u001b[43mx\u001b[49m\u001b[38;5;241;43m.\u001b[39;49m\u001b[43mshape\u001b[49m)\n\u001b[0;32m     47\u001b[0m     x \u001b[38;5;241m=\u001b[39m x[\u001b[38;5;241m-\u001b[39m\u001b[38;5;241m1\u001b[39m]\n\u001b[0;32m     48\u001b[0m     \u001b[38;5;28;01mif\u001b[39;00m (\u001b[38;5;28mlen\u001b[39m(x)) \u001b[38;5;241m==\u001b[39m \u001b[38;5;241m1\u001b[39m : \u001b[38;5;28;01mreturn\u001b[39;00m\n",
      "\u001b[1;31mAttributeError\u001b[0m: 'tuple' object has no attribute 'shape'"
     ]
    }
   ],
   "source": [
    "from src.models.batch_model import prompt_conv\n",
    "sequence_state = replay_memory.sample_sequence(5)\n",
    "print(len(sequence_state[0]))\n",
    "# sequence_state = sequence.render_simple()\n",
    "print(sequence_state[0])\n",
    "prompt_conv(sequence_state)"
   ]
  },
  {
   "cell_type": "code",
   "execution_count": null,
   "id": "f0d37d3b",
   "metadata": {},
   "outputs": [],
   "source": [
    "\n",
    "import os\n",
    "\n",
    "save_model_dir = './saved_models'\n",
    "\n",
    "if not os.path.exists(f'{save_model_dir}'):\n",
    "    os.mkdir(f'{save_model_dir}')\n",
    "if not os.path.exists(f'{save_model_dir}/{timestr}'):\n",
    "    os.mkdir(f'{save_model_dir}/{timestr}')\n",
    "\n",
    "torch.save(policy_net.state_dict(), f'{save_model_dir}/{timestr}/policy_net')\n",
    "torch.save(target_net.state_dict(), f'{save_model_dir}/{timestr}/target_net')"
   ]
  },
  {
   "cell_type": "code",
   "execution_count": null,
   "id": "7de48566",
   "metadata": {},
   "outputs": [],
   "source": [
    "def assert_memory():\n",
    "    sequence = replay_memory.sample_sequence(3)\n",
    "\n",
    "    states, actions, rewards, next_states = *zip(*sequence), # let the ',' to not give syntax error\n",
    "    sequence_length = len(states) # - 1\n",
    "\n",
    "    states = torch.stack(states)\n",
    "    actions = torch.cat(actions)\n",
    "    rewards = torch.cat(rewards)\n",
    "\n",
    "    non_final_states_mask = torch.tensor(tuple(map(lambda s: s is not None, next_states)), device=device)\n",
    "    non_final_next_states = torch.stack([s for s in next_states if s is not None])\n",
    "\n",
    "    print(len(states))\n",
    "    for i in range(len(states)):\n",
    "        print(f\"{i}\")\n",
    "        plt.imshow(states[i].cpu().numpy().transpose((1,2,0)))\n",
    "        plt.show()\n",
    "        plt.imshow(non_final_next_states[i].cpu().numpy().transpose((1,2,0)))\n",
    "        plt.show()\n",
    "assert_memory()"
   ]
  },
  {
   "cell_type": "code",
   "execution_count": null,
   "id": "7b979210",
   "metadata": {},
   "outputs": [],
   "source": [
    "exit()"
   ]
  },
  {
   "cell_type": "code",
   "execution_count": null,
   "metadata": {},
   "outputs": [],
   "source": [
    "camera.set_foreground_game()\n",
    "\n",
    "policy_net.eval()\n",
    "while True:\n",
    "    observation = game_env.reset()\n",
    "    time.sleep(0.1)\n",
    "    state = phi(observation, device)\n",
    "    sequence.clear()\n",
    "    \n",
    "    for t in count():\n",
    "\n",
    "        sequence.push(state)\n",
    "        rendered = sequence.render_simple()\n",
    "\n",
    "        hn = torch.zeros(lstm_layers, lstm_n, dtype=torch.float32, device=device)\n",
    "        cn = torch.zeros(lstm_layers, lstm_n, dtype=torch.float32, device=device)\n",
    "        with torch.no_grad():\n",
    "            q_value_action, (hn, cn) = policy_net.forward_prompt(rendered, (hn, cn))\n",
    "            q_value_action = q_value_action[-1:]\n",
    "            print(q_value_action, end=\"\")\n",
    "            q_value_action = q_value_action.max(1)\n",
    "            action = q_value_action[1].view(1,1)\n",
    "            print(f\", actions {action}\")\n",
    "\n",
    "        observation, reward, game_over = game_env.step(action.item())\n",
    "        if game_over:\n",
    "            next_state = None # ordem provavelmente errada\n",
    "        else:\n",
    "            next_state = phi(observation, device)\n",
    "        state = next_state\n",
    "        if game_over:\n",
    "            break"
   ]
  },
  {
   "cell_type": "code",
   "execution_count": null,
   "id": "15899787",
   "metadata": {},
   "outputs": [],
   "source": [
    "\"\"\"camera.set_foreground_game()\n",
    "state = phi(camera.get_frame(), device)\n",
    "\n",
    "policy_net.eval()\n",
    "hn = torch.zeros(lstm_layers, lstm_n, dtype=torch.float32, device=device)\n",
    "cn = torch.zeros(lstm_layers, lstm_n, dtype=torch.float32, device=device)\n",
    "\n",
    "with torch.no_grad():\n",
    "    q_value_action, (hn, cn) = policy_net(state.unsqueeze(0), (hn, cn))\n",
    "    q_value_action = q_value_action[-1:]\n",
    "    print(q_value_action)\"\"\""
   ]
  }
 ],
 "metadata": {
  "kernelspec": {
   "display_name": "Python 3 (ipykernel)",
   "language": "python",
   "name": "python3"
  },
  "language_info": {
   "codemirror_mode": {
    "name": "ipython",
    "version": 3
   },
   "file_extension": ".py",
   "mimetype": "text/x-python",
   "name": "python",
   "nbconvert_exporter": "python",
   "pygments_lexer": "ipython3",
   "version": "3.11.4"
  }
 },
 "nbformat": 4,
 "nbformat_minor": 5
}
